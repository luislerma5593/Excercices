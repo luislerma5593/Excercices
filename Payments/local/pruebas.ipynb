{
 "cells": [
  {
   "cell_type": "code",
   "execution_count": 1,
   "source": [
    "from app import session\r\n",
    "from app import Pay\r\n",
    "from validaciones import val_0_1, val_año, val_dia, val_mes\r\n",
    "from fecha_lib import create_date\r\n"
   ],
   "outputs": [],
   "metadata": {}
  },
  {
   "cell_type": "code",
   "execution_count": 2,
   "source": [
    "\r\n",
    "\r\n",
    "v_id_contrato = int(input(\"Introduce el número de contrato: \"))\r\n",
    "v_id_cliente = int(input(\"Introudce el número de cliente: \"))\r\n",
    "dia = val_dia(\"Ingresa el día: \")\r\n",
    "mes = val_mes(\"Ingresa el mes: \")\r\n",
    "año = val_año(\"Ingresa el año: \")\r\n",
    "\r\n",
    "str_fecha = create_date(dia, mes, año)\r\n",
    "\r\n",
    "v_fecha = str_fecha\r\n",
    "v_monto = float(input(\"Introduce el monto: \"))\r\n",
    "v_activo = True    \r\n"
   ],
   "outputs": [],
   "metadata": {}
  },
  {
   "cell_type": "code",
   "execution_count": 3,
   "source": [
    "str_fecha"
   ],
   "outputs": [
    {
     "output_type": "execute_result",
     "data": {
      "text/plain": [
       "'2021-01-01'"
      ]
     },
     "metadata": {},
     "execution_count": 3
    }
   ],
   "metadata": {}
  },
  {
   "cell_type": "code",
   "execution_count": 4,
   "source": [
    "payments = session.query(Pay).filter(\r\n",
    "            Pay.id_contrato == v_id_contrato\r\n",
    "        ).order_by(\r\n",
    "            Pay.id_pago.desc()\r\n",
    "        ).first()\r\n",
    "\r\n",
    "payments.fecha"
   ],
   "outputs": [
    {
     "output_type": "execute_result",
     "data": {
      "text/plain": [
       "datetime.date(2021, 9, 1)"
      ]
     },
     "metadata": {},
     "execution_count": 4
    }
   ],
   "metadata": {}
  },
  {
   "cell_type": "code",
   "execution_count": 5,
   "source": [
    "payments.id_pago"
   ],
   "outputs": [
    {
     "output_type": "execute_result",
     "data": {
      "text/plain": [
       "13"
      ]
     },
     "metadata": {},
     "execution_count": 5
    }
   ],
   "metadata": {}
  },
  {
   "cell_type": "code",
   "execution_count": 6,
   "source": [
    "\r\n",
    "payments = session.query(Pay).filter(\r\n",
    "            Pay.id_contrato == v_id_contrato\r\n",
    "        ).filter(\r\n",
    "            Pay.fecha > str_fecha\r\n",
    "        )\r\n"
   ],
   "outputs": [],
   "metadata": {}
  },
  {
   "cell_type": "code",
   "execution_count": 7,
   "source": [
    "payments.count()"
   ],
   "outputs": [
    {
     "output_type": "execute_result",
     "data": {
      "text/plain": [
       "13"
      ]
     },
     "metadata": {},
     "execution_count": 7
    }
   ],
   "metadata": {}
  },
  {
   "cell_type": "code",
   "execution_count": 52,
   "source": [
    "\r\n",
    "payments[-1].id_pago"
   ],
   "outputs": [
    {
     "output_type": "execute_result",
     "data": {
      "text/plain": [
       "10"
      ]
     },
     "metadata": {},
     "execution_count": 52
    }
   ],
   "metadata": {}
  },
  {
   "cell_type": "code",
   "execution_count": 8,
   "source": [
    "for i in payments:\r\n",
    "    print(i.id_pago)"
   ],
   "outputs": [
    {
     "output_type": "stream",
     "name": "stdout",
     "text": [
      "1\n",
      "2\n",
      "3\n",
      "4\n",
      "5\n",
      "6\n",
      "7\n",
      "8\n",
      "9\n",
      "10\n",
      "11\n",
      "12\n",
      "13\n"
     ]
    }
   ],
   "metadata": {}
  },
  {
   "cell_type": "code",
   "execution_count": null,
   "source": [
    "    \r\n",
    "print(\"id_pago \\t id_contrato \\t id_cliente \\t fecha \\t \\t \\t monto\")\r\n",
    "for pay in payments:\r\n",
    "    print(pay.id_pago,\"\\t\\t\",pay.id_contrato,\"\\t\\t\",pay.id_cliente,\"\\t\\t\", pay.fecha,\"\\t\\t\", pay.monto)\r\n",
    "\r\n",
    "print(\"Shape: \",payments.shape)"
   ],
   "outputs": [],
   "metadata": {}
  },
  {
   "cell_type": "code",
   "execution_count": 1,
   "source": [
    "for i in range(1,3):\r\n",
    "    print(i)"
   ],
   "outputs": [
    {
     "output_type": "stream",
     "name": "stdout",
     "text": [
      "1\n",
      "2\n"
     ]
    }
   ],
   "metadata": {}
  }
 ],
 "metadata": {
  "orig_nbformat": 4,
  "language_info": {
   "name": "python",
   "version": "3.8.5",
   "mimetype": "text/x-python",
   "codemirror_mode": {
    "name": "ipython",
    "version": 3
   },
   "pygments_lexer": "ipython3",
   "nbconvert_exporter": "python",
   "file_extension": ".py"
  },
  "kernelspec": {
   "name": "python3",
   "display_name": "Python 3.8.5 64-bit ('venv': venv)"
  },
  "interpreter": {
   "hash": "bf614d7acc6fe911f1183bbe3961e9218e829efaa1418fb78b7d9b4aed3a9c04"
  }
 },
 "nbformat": 4,
 "nbformat_minor": 2
}